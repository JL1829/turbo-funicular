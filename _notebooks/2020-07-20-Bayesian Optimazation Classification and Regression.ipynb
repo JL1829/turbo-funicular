{
 "cells": [
  {
   "cell_type": "markdown",
   "metadata": {},
   "source": [
    "# Bayesian Optimazation Classification and Regression\n",
    "> From now, stop using GridSearch and RandomSearch \n",
    "\n",
    "- toc: true \n",
    "- badges: true\n",
    "- comments: true\n",
    "- categories: [Bayesian]"
   ]
  },
  {
   "cell_type": "code",
   "execution_count": 2,
   "metadata": {},
   "outputs": [],
   "source": [
    "import numpy as np\n",
    "import pandas as pd\n",
    "from sklearn.ensemble import RandomForestClassifier\n",
    "from sklearn.ensemble import RandomForestRegressor\n",
    "from bayes_opt import BayesianOptimization\n",
    "from sklearn.datasets import make_classification, make_regression\n",
    "from sklearn.model_selection import cross_val_score\n",
    "\n",
    "import warnings\n",
    "warnings.simplefilter('ignore')"
   ]
  },
  {
   "cell_type": "markdown",
   "metadata": {},
   "source": [
    "# Classification Problem Bayesian Optimazation"
   ]
  },
  {
   "cell_type": "code",
   "execution_count": 12,
   "metadata": {},
   "outputs": [],
   "source": [
    "X, y = make_classification(n_samples=10000, n_features=10, n_classes=2)"
   ]
  },
  {
   "cell_type": "markdown",
   "metadata": {},
   "source": [
    "We using the default hyperparameter to fit the data"
   ]
  },
  {
   "cell_type": "code",
   "execution_count": 13,
   "metadata": {},
   "outputs": [
    {
     "data": {
      "text/plain": [
       "0.9897763781114314"
      ]
     },
     "execution_count": 13,
     "metadata": {},
     "output_type": "execute_result"
    }
   ],
   "source": [
    "rfc = RandomForestClassifier()\n",
    "np.mean(cross_val_score(rfc, X, y, cv=5, scoring='roc_auc'))"
   ]
  },
  {
   "cell_type": "markdown",
   "metadata": {},
   "source": [
    "Default hyperparameter perform aroudn `0.98` ROC_AUC, next step we use `Bayesian Optimazation` to fine turn the hyperparameter. "
   ]
  },
  {
   "cell_type": "markdown",
   "metadata": {},
   "source": [
    "## Define the `blackBox` function"
   ]
  },
  {
   "cell_type": "code",
   "execution_count": 14,
   "metadata": {},
   "outputs": [],
   "source": [
    "def rfc_cv(n_estimators, min_samples_split, max_features, max_depth):\n",
    "    val = np.mean(cross_val_score(RandomForestClassifier(n_estimators=int(n_estimators), \n",
    "                                                 min_samples_split=int(min_samples_split),\n",
    "                                                 max_features=min(max_features, 0.999),\n",
    "                                                 max_depth=int(max_depth), random_state=42),\n",
    "                         X, y, scoring='roc_auc', cv=5))\n",
    "    \n",
    "    return val"
   ]
  },
  {
   "cell_type": "code",
   "execution_count": 15,
   "metadata": {},
   "outputs": [],
   "source": [
    "# define Bayesian Optimazation\n",
    "rfc_bo = BayesianOptimization(\n",
    "             rfc_cv,\n",
    "             {'n_estimators': (10, 250),\n",
    "             'min_samples_split': (2, 25),\n",
    "             'max_features': (0.1, 0.999),\n",
    "             'max_depth': (5, 30)})"
   ]
  },
  {
   "cell_type": "code",
   "execution_count": 16,
   "metadata": {},
   "outputs": [
    {
     "name": "stdout",
     "output_type": "stream",
     "text": [
      "|   iter    |  target   | max_depth | max_fe... | min_sa... | n_esti... |\n",
      "-------------------------------------------------------------------------\n",
      "| \u001b[0m 1       \u001b[0m | \u001b[0m 0.9904  \u001b[0m | \u001b[0m 18.08   \u001b[0m | \u001b[0m 0.3725  \u001b[0m | \u001b[0m 2.766   \u001b[0m | \u001b[0m 249.1   \u001b[0m |\n",
      "| \u001b[0m 2       \u001b[0m | \u001b[0m 0.9898  \u001b[0m | \u001b[0m 15.31   \u001b[0m | \u001b[0m 0.6883  \u001b[0m | \u001b[0m 24.87   \u001b[0m | \u001b[0m 84.16   \u001b[0m |\n",
      "| \u001b[0m 3       \u001b[0m | \u001b[0m 0.99    \u001b[0m | \u001b[0m 12.87   \u001b[0m | \u001b[0m 0.416   \u001b[0m | \u001b[0m 24.62   \u001b[0m | \u001b[0m 51.27   \u001b[0m |\n",
      "| \u001b[0m 4       \u001b[0m | \u001b[0m 0.9903  \u001b[0m | \u001b[0m 19.94   \u001b[0m | \u001b[0m 0.4735  \u001b[0m | \u001b[0m 5.652   \u001b[0m | \u001b[0m 244.5   \u001b[0m |\n",
      "| \u001b[0m 5       \u001b[0m | \u001b[0m 0.9895  \u001b[0m | \u001b[0m 25.96   \u001b[0m | \u001b[0m 0.9587  \u001b[0m | \u001b[0m 12.6    \u001b[0m | \u001b[0m 244.6   \u001b[0m |\n",
      "| \u001b[0m 6       \u001b[0m | \u001b[0m 0.9901  \u001b[0m | \u001b[0m 16.89   \u001b[0m | \u001b[0m 0.7025  \u001b[0m | \u001b[0m 2.421   \u001b[0m | \u001b[0m 244.6   \u001b[0m |\n",
      "| \u001b[95m 7       \u001b[0m | \u001b[95m 0.9904  \u001b[0m | \u001b[95m 16.8    \u001b[0m | \u001b[95m 0.4017  \u001b[0m | \u001b[95m 6.605   \u001b[0m | \u001b[95m 248.0   \u001b[0m |\n",
      "| \u001b[0m 8       \u001b[0m | \u001b[0m 0.9901  \u001b[0m | \u001b[0m 21.43   \u001b[0m | \u001b[0m 0.5085  \u001b[0m | \u001b[0m 6.751   \u001b[0m | \u001b[0m 249.4   \u001b[0m |\n",
      "| \u001b[0m 9       \u001b[0m | \u001b[0m 0.9901  \u001b[0m | \u001b[0m 11.14   \u001b[0m | \u001b[0m 0.6435  \u001b[0m | \u001b[0m 4.991   \u001b[0m | \u001b[0m 248.4   \u001b[0m |\n",
      "| \u001b[0m 10      \u001b[0m | \u001b[0m 0.9902  \u001b[0m | \u001b[0m 16.72   \u001b[0m | \u001b[0m 0.5588  \u001b[0m | \u001b[0m 9.387   \u001b[0m | \u001b[0m 242.5   \u001b[0m |\n",
      "| \u001b[0m 11      \u001b[0m | \u001b[0m 0.9897  \u001b[0m | \u001b[0m 13.73   \u001b[0m | \u001b[0m 0.7405  \u001b[0m | \u001b[0m 12.09   \u001b[0m | \u001b[0m 248.8   \u001b[0m |\n",
      "| \u001b[0m 12      \u001b[0m | \u001b[0m 0.9895  \u001b[0m | \u001b[0m 19.62   \u001b[0m | \u001b[0m 0.5513  \u001b[0m | \u001b[0m 4.749   \u001b[0m | \u001b[0m 237.9   \u001b[0m |\n",
      "| \u001b[0m 13      \u001b[0m | \u001b[0m 0.9901  \u001b[0m | \u001b[0m 23.44   \u001b[0m | \u001b[0m 0.4172  \u001b[0m | \u001b[0m 2.239   \u001b[0m | \u001b[0m 247.5   \u001b[0m |\n",
      "| \u001b[0m 14      \u001b[0m | \u001b[0m 0.99    \u001b[0m | \u001b[0m 5.734   \u001b[0m | \u001b[0m 0.5701  \u001b[0m | \u001b[0m 3.207   \u001b[0m | \u001b[0m 241.1   \u001b[0m |\n",
      "| \u001b[0m 15      \u001b[0m | \u001b[0m 0.9878  \u001b[0m | \u001b[0m 19.07   \u001b[0m | \u001b[0m 0.1093  \u001b[0m | \u001b[0m 4.803   \u001b[0m | \u001b[0m 246.5   \u001b[0m |\n",
      "| \u001b[0m 16      \u001b[0m | \u001b[0m 0.9896  \u001b[0m | \u001b[0m 17.28   \u001b[0m | \u001b[0m 0.7474  \u001b[0m | \u001b[0m 21.93   \u001b[0m | \u001b[0m 203.7   \u001b[0m |\n",
      "| \u001b[0m 17      \u001b[0m | \u001b[0m 0.9894  \u001b[0m | \u001b[0m 9.389   \u001b[0m | \u001b[0m 0.7191  \u001b[0m | \u001b[0m 7.547   \u001b[0m | \u001b[0m 34.61   \u001b[0m |\n",
      "| \u001b[95m 18      \u001b[0m | \u001b[95m 0.9904  \u001b[0m | \u001b[95m 24.09   \u001b[0m | \u001b[95m 0.5541  \u001b[0m | \u001b[95m 22.82   \u001b[0m | \u001b[95m 39.02   \u001b[0m |\n",
      "| \u001b[95m 19      \u001b[0m | \u001b[95m 0.9905  \u001b[0m | \u001b[95m 6.456   \u001b[0m | \u001b[95m 0.7869  \u001b[0m | \u001b[95m 22.56   \u001b[0m | \u001b[95m 17.81   \u001b[0m |\n",
      "| \u001b[0m 20      \u001b[0m | \u001b[0m 0.9896  \u001b[0m | \u001b[0m 22.42   \u001b[0m | \u001b[0m 0.3757  \u001b[0m | \u001b[0m 9.123   \u001b[0m | \u001b[0m 42.82   \u001b[0m |\n",
      "| \u001b[0m 21      \u001b[0m | \u001b[0m 0.9882  \u001b[0m | \u001b[0m 25.08   \u001b[0m | \u001b[0m 0.6047  \u001b[0m | \u001b[0m 4.696   \u001b[0m | \u001b[0m 19.99   \u001b[0m |\n",
      "| \u001b[0m 22      \u001b[0m | \u001b[0m 0.9898  \u001b[0m | \u001b[0m 18.56   \u001b[0m | \u001b[0m 0.2698  \u001b[0m | \u001b[0m 6.795   \u001b[0m | \u001b[0m 65.66   \u001b[0m |\n",
      "| \u001b[0m 23      \u001b[0m | \u001b[0m 0.9889  \u001b[0m | \u001b[0m 5.348   \u001b[0m | \u001b[0m 0.4807  \u001b[0m | \u001b[0m 19.61   \u001b[0m | \u001b[0m 69.79   \u001b[0m |\n",
      "| \u001b[0m 24      \u001b[0m | \u001b[0m 0.99    \u001b[0m | \u001b[0m 14.29   \u001b[0m | \u001b[0m 0.2061  \u001b[0m | \u001b[0m 13.03   \u001b[0m | \u001b[0m 224.5   \u001b[0m |\n",
      "| \u001b[0m 25      \u001b[0m | \u001b[0m 0.9902  \u001b[0m | \u001b[0m 10.75   \u001b[0m | \u001b[0m 0.4831  \u001b[0m | \u001b[0m 5.161   \u001b[0m | \u001b[0m 248.3   \u001b[0m |\n",
      "| \u001b[0m 26      \u001b[0m | \u001b[0m 0.9902  \u001b[0m | \u001b[0m 17.2    \u001b[0m | \u001b[0m 0.676   \u001b[0m | \u001b[0m 7.752   \u001b[0m | \u001b[0m 246.8   \u001b[0m |\n",
      "| \u001b[0m 27      \u001b[0m | \u001b[0m 0.9892  \u001b[0m | \u001b[0m 23.25   \u001b[0m | \u001b[0m 0.8133  \u001b[0m | \u001b[0m 22.96   \u001b[0m | \u001b[0m 39.82   \u001b[0m |\n",
      "| \u001b[0m 28      \u001b[0m | \u001b[0m 0.99    \u001b[0m | \u001b[0m 6.223   \u001b[0m | \u001b[0m 0.8502  \u001b[0m | \u001b[0m 22.09   \u001b[0m | \u001b[0m 17.42   \u001b[0m |\n",
      "| \u001b[0m 29      \u001b[0m | \u001b[0m 0.9904  \u001b[0m | \u001b[0m 15.85   \u001b[0m | \u001b[0m 0.4259  \u001b[0m | \u001b[0m 6.132   \u001b[0m | \u001b[0m 247.7   \u001b[0m |\n",
      "| \u001b[0m 30      \u001b[0m | \u001b[0m 0.9891  \u001b[0m | \u001b[0m 24.09   \u001b[0m | \u001b[0m 0.2956  \u001b[0m | \u001b[0m 23.08   \u001b[0m | \u001b[0m 38.13   \u001b[0m |\n",
      "=========================================================================\n"
     ]
    }
   ],
   "source": [
    "# start the optimazation\n",
    "rfc_bo.maximize()"
   ]
  },
  {
   "cell_type": "code",
   "execution_count": 17,
   "metadata": {},
   "outputs": [
    {
     "data": {
      "text/plain": [
       "{'target': 0.9905380799798376,\n",
       " 'params': {'max_depth': 6.456055231994655,\n",
       "  'max_features': 0.7869473158265811,\n",
       "  'min_samples_split': 22.558253615710782,\n",
       "  'n_estimators': 17.814015466174588}}"
      ]
     },
     "execution_count": 17,
     "metadata": {},
     "output_type": "execute_result"
    }
   ],
   "source": [
    "# check the best hyperparameter\n",
    "rfc_bo.max"
   ]
  },
  {
   "cell_type": "code",
   "execution_count": 18,
   "metadata": {},
   "outputs": [],
   "source": [
    "rfc_Optimazed = RandomForestClassifier(n_estimators=18, max_depth=6, max_features=0.78, min_samples_split=22)"
   ]
  },
  {
   "cell_type": "code",
   "execution_count": 19,
   "metadata": {},
   "outputs": [
    {
     "data": {
      "text/plain": [
       "0.9900614797906387"
      ]
     },
     "execution_count": 19,
     "metadata": {},
     "output_type": "execute_result"
    }
   ],
   "source": [
    "np.mean(cross_val_score(rfc_Optimazed, X, y, cv=5, scoring='roc_auc'))"
   ]
  },
  {
   "cell_type": "markdown",
   "metadata": {},
   "source": [
    "* Original `roc_auc`: 0.989776\n",
    "* Optimized `roc_auc`: 0.99006"
   ]
  },
  {
   "cell_type": "markdown",
   "metadata": {},
   "source": [
    "# Regression Problem Bayesian Optimazation"
   ]
  },
  {
   "cell_type": "code",
   "execution_count": 3,
   "metadata": {},
   "outputs": [],
   "source": [
    "X, y = make_regression(n_samples=10000, n_features=10)"
   ]
  },
  {
   "cell_type": "code",
   "execution_count": 4,
   "metadata": {},
   "outputs": [
    {
     "data": {
      "text/plain": [
       "-1409.2889528620326"
      ]
     },
     "execution_count": 4,
     "metadata": {},
     "output_type": "execute_result"
    }
   ],
   "source": [
    "rfe = RandomForestRegressor()\n",
    "np.mean(cross_val_score(rfe, X, y, cv=5, scoring='neg_mean_squared_error'))"
   ]
  },
  {
   "cell_type": "markdown",
   "metadata": {},
   "source": [
    "## Define the `blackbox` function"
   ]
  },
  {
   "cell_type": "code",
   "execution_count": 5,
   "metadata": {},
   "outputs": [],
   "source": [
    "def rfe_cv(n_estimators, min_samples_split, max_features, max_depth):\n",
    "    val = np.mean(cross_val_score(RandomForestRegressor(n_estimators=int(n_estimators), \n",
    "                                                 min_samples_split=int(min_samples_split),\n",
    "                                                 max_features=min(max_features, 0.999),\n",
    "                                                 max_depth=int(max_depth), random_state=42),\n",
    "                         X, y, scoring='neg_mean_squared_error', cv=5))\n",
    "    \n",
    "    return val"
   ]
  },
  {
   "cell_type": "code",
   "execution_count": null,
   "metadata": {},
   "outputs": [],
   "source": [
    "score = rfe_cv(n_estimators=100, min_samples_split=10, max_depth=6, max_features=0.78)\n",
    "score"
   ]
  },
  {
   "cell_type": "code",
   "execution_count": 6,
   "metadata": {},
   "outputs": [],
   "source": [
    "# define Bayesian Optimazation\n",
    "rfe_bo = BayesianOptimization(\n",
    "             rfe_cv,\n",
    "             {'n_estimators': (10, 250),\n",
    "             'min_samples_split': (2, 25),\n",
    "             'max_features': (0.1, 0.999),\n",
    "             'max_depth': (5, 30)})"
   ]
  },
  {
   "cell_type": "code",
   "execution_count": 8,
   "metadata": {},
   "outputs": [
    {
     "name": "stdout",
     "output_type": "stream",
     "text": [
      "|   iter    |  target   | max_depth | max_fe... | min_sa... | n_esti... |\n",
      "-------------------------------------------------------------------------\n",
      "| \u001b[0m 1       \u001b[0m | \u001b[0m-2.702e+0\u001b[0m | \u001b[0m 22.15   \u001b[0m | \u001b[0m 0.2902  \u001b[0m | \u001b[0m 20.4    \u001b[0m | \u001b[0m 211.9   \u001b[0m |\n",
      "| \u001b[0m 2       \u001b[0m | \u001b[0m-2.788e+0\u001b[0m | \u001b[0m 25.96   \u001b[0m | \u001b[0m 0.2216  \u001b[0m | \u001b[0m 22.83   \u001b[0m | \u001b[0m 166.3   \u001b[0m |\n",
      "| \u001b[95m 3       \u001b[0m | \u001b[95m-1.651e+0\u001b[0m | \u001b[95m 11.15   \u001b[0m | \u001b[95m 0.8612  \u001b[0m | \u001b[95m 10.86   \u001b[0m | \u001b[95m 153.0   \u001b[0m |\n",
      "| \u001b[0m 4       \u001b[0m | \u001b[0m-5.608e+0\u001b[0m | \u001b[0m 5.331   \u001b[0m | \u001b[0m 0.4747  \u001b[0m | \u001b[0m 10.79   \u001b[0m | \u001b[0m 49.97   \u001b[0m |\n",
      "| \u001b[0m 5       \u001b[0m | \u001b[0m-1.862e+0\u001b[0m | \u001b[0m 12.6    \u001b[0m | \u001b[0m 0.9883  \u001b[0m | \u001b[0m 21.26   \u001b[0m | \u001b[0m 124.8   \u001b[0m |\n",
      "| \u001b[0m 6       \u001b[0m | \u001b[0m-5.684e+0\u001b[0m | \u001b[0m 5.0     \u001b[0m | \u001b[0m 0.999   \u001b[0m | \u001b[0m 2.0     \u001b[0m | \u001b[0m 250.0   \u001b[0m |\n",
      "| \u001b[95m 7       \u001b[0m | \u001b[95m-1.568e+0\u001b[0m | \u001b[95m 12.54   \u001b[0m | \u001b[95m 0.9491  \u001b[0m | \u001b[95m 10.55   \u001b[0m | \u001b[95m 149.3   \u001b[0m |\n",
      "| \u001b[0m 8       \u001b[0m | \u001b[0m-4.212e+0\u001b[0m | \u001b[0m 30.0    \u001b[0m | \u001b[0m 0.1     \u001b[0m | \u001b[0m 2.0     \u001b[0m | \u001b[0m 117.6   \u001b[0m |\n",
      "| \u001b[0m 9       \u001b[0m | \u001b[0m-5.682e+0\u001b[0m | \u001b[0m 5.0     \u001b[0m | \u001b[0m 0.999   \u001b[0m | \u001b[0m 25.0    \u001b[0m | \u001b[0m 144.0   \u001b[0m |\n",
      "| \u001b[95m 10      \u001b[0m | \u001b[95m-1.443e+0\u001b[0m | \u001b[95m 20.34   \u001b[0m | \u001b[95m 0.758   \u001b[0m | \u001b[95m 8.014   \u001b[0m | \u001b[95m 154.0   \u001b[0m |\n",
      "| \u001b[95m 11      \u001b[0m | \u001b[95m-1.412e+0\u001b[0m | \u001b[95m 14.26   \u001b[0m | \u001b[95m 0.999   \u001b[0m | \u001b[95m 2.0     \u001b[0m | \u001b[95m 165.3   \u001b[0m |\n",
      "| \u001b[95m 12      \u001b[0m | \u001b[95m-1.399e+0\u001b[0m | \u001b[95m 30.0    \u001b[0m | \u001b[95m 0.999   \u001b[0m | \u001b[95m 2.0     \u001b[0m | \u001b[95m 172.4   \u001b[0m |\n",
      "| \u001b[0m 13      \u001b[0m | \u001b[0m-4.4e+03 \u001b[0m | \u001b[0m 17.47   \u001b[0m | \u001b[0m 0.1     \u001b[0m | \u001b[0m 2.0     \u001b[0m | \u001b[0m 186.3   \u001b[0m |\n",
      "| \u001b[0m 14      \u001b[0m | \u001b[0m-1.402e+0\u001b[0m | \u001b[0m 30.0    \u001b[0m | \u001b[0m 0.999   \u001b[0m | \u001b[0m 2.0     \u001b[0m | \u001b[0m 160.2   \u001b[0m |\n",
      "| \u001b[0m 15      \u001b[0m | \u001b[0m-4.4e+03 \u001b[0m | \u001b[0m 6.677   \u001b[0m | \u001b[0m 0.999   \u001b[0m | \u001b[0m 25.0    \u001b[0m | \u001b[0m 106.8   \u001b[0m |\n",
      "| \u001b[0m 16      \u001b[0m | \u001b[0m-5.683e+0\u001b[0m | \u001b[0m 5.477   \u001b[0m | \u001b[0m 0.999   \u001b[0m | \u001b[0m 2.0     \u001b[0m | \u001b[0m 149.3   \u001b[0m |\n",
      "| \u001b[0m 17      \u001b[0m | \u001b[0m-1.443e+0\u001b[0m | \u001b[0m 22.98   \u001b[0m | \u001b[0m 0.999   \u001b[0m | \u001b[0m 7.414   \u001b[0m | \u001b[0m 165.7   \u001b[0m |\n",
      "| \u001b[0m 18      \u001b[0m | \u001b[0m-1.635e+0\u001b[0m | \u001b[0m 12.45   \u001b[0m | \u001b[0m 0.999   \u001b[0m | \u001b[0m 13.44   \u001b[0m | \u001b[0m 165.8   \u001b[0m |\n",
      "| \u001b[0m 19      \u001b[0m | \u001b[0m-1.654e+0\u001b[0m | \u001b[0m 24.78   \u001b[0m | \u001b[0m 0.999   \u001b[0m | \u001b[0m 15.16   \u001b[0m | \u001b[0m 144.4   \u001b[0m |\n",
      "| \u001b[0m 20      \u001b[0m | \u001b[0m-1.864e+0\u001b[0m | \u001b[0m 26.15   \u001b[0m | \u001b[0m 0.6263  \u001b[0m | \u001b[0m 23.02   \u001b[0m | \u001b[0m 129.2   \u001b[0m |\n",
      "| \u001b[95m 21      \u001b[0m | \u001b[95m-1.391e+0\u001b[0m | \u001b[95m 28.7    \u001b[0m | \u001b[95m 0.8468  \u001b[0m | \u001b[95m 2.122   \u001b[0m | \u001b[95m 140.7   \u001b[0m |\n",
      "| \u001b[0m 22      \u001b[0m | \u001b[0m-1.46e+03\u001b[0m | \u001b[0m 18.32   \u001b[0m | \u001b[0m 0.6642  \u001b[0m | \u001b[0m 9.14    \u001b[0m | \u001b[0m 133.6   \u001b[0m |\n",
      "| \u001b[0m 23      \u001b[0m | \u001b[0m-2.242e+0\u001b[0m | \u001b[0m 30.0    \u001b[0m | \u001b[0m 0.999   \u001b[0m | \u001b[0m 25.0    \u001b[0m | \u001b[0m 10.0    \u001b[0m |\n",
      "| \u001b[0m 24      \u001b[0m | \u001b[0m-1.758e+0\u001b[0m | \u001b[0m 30.0    \u001b[0m | \u001b[0m 0.999   \u001b[0m | \u001b[0m 4.534   \u001b[0m | \u001b[0m 10.0    \u001b[0m |\n",
      "| \u001b[0m 25      \u001b[0m | \u001b[0m-1.859e+0\u001b[0m | \u001b[0m 14.99   \u001b[0m | \u001b[0m 0.5897  \u001b[0m | \u001b[0m 10.89   \u001b[0m | \u001b[0m 10.73   \u001b[0m |\n",
      "| \u001b[0m 26      \u001b[0m | \u001b[0m-5.012e+0\u001b[0m | \u001b[0m 27.24   \u001b[0m | \u001b[0m 0.1     \u001b[0m | \u001b[0m 11.51   \u001b[0m | \u001b[0m 23.43   \u001b[0m |\n",
      "| \u001b[0m 27      \u001b[0m | \u001b[0m-5.892e+0\u001b[0m | \u001b[0m 5.0     \u001b[0m | \u001b[0m 0.999   \u001b[0m | \u001b[0m 2.0     \u001b[0m | \u001b[0m 10.0    \u001b[0m |\n",
      "| \u001b[0m 28      \u001b[0m | \u001b[0m-1.568e+0\u001b[0m | \u001b[0m 28.81   \u001b[0m | \u001b[0m 0.9138  \u001b[0m | \u001b[0m 12.15   \u001b[0m | \u001b[0m 134.3   \u001b[0m |\n",
      "| \u001b[0m 29      \u001b[0m | \u001b[0m-2.17e+03\u001b[0m | \u001b[0m 15.28   \u001b[0m | \u001b[0m 0.6976  \u001b[0m | \u001b[0m 23.56   \u001b[0m | \u001b[0m 10.48   \u001b[0m |\n",
      "| \u001b[0m 30      \u001b[0m | \u001b[0m-6.18e+03\u001b[0m | \u001b[0m 5.125   \u001b[0m | \u001b[0m 0.352   \u001b[0m | \u001b[0m 23.98   \u001b[0m | \u001b[0m 176.2   \u001b[0m |\n",
      "=========================================================================\n"
     ]
    }
   ],
   "source": [
    "# start the optimazation\n",
    "rfe_bo.maximize()"
   ]
  },
  {
   "cell_type": "code",
   "execution_count": 9,
   "metadata": {},
   "outputs": [
    {
     "data": {
      "text/plain": [
       "{'target': -1390.7849548765093,\n",
       " 'params': {'max_depth': 28.70255259053527,\n",
       "  'max_features': 0.8468279746142502,\n",
       "  'min_samples_split': 2.1219418980976834,\n",
       "  'n_estimators': 140.748505191585}}"
      ]
     },
     "execution_count": 9,
     "metadata": {},
     "output_type": "execute_result"
    }
   ],
   "source": [
    "rfe_bo.max"
   ]
  },
  {
   "cell_type": "code",
   "execution_count": 10,
   "metadata": {},
   "outputs": [],
   "source": [
    "# use the best hyperparameter\n",
    "rfe = RandomForestRegressor(n_estimators=140, max_depth=29, max_features=0.84, min_samples_split=2)"
   ]
  },
  {
   "cell_type": "code",
   "execution_count": 11,
   "metadata": {},
   "outputs": [
    {
     "data": {
      "text/plain": [
       "-1383.4479089516929"
      ]
     },
     "execution_count": 11,
     "metadata": {},
     "output_type": "execute_result"
    }
   ],
   "source": [
    "np.mean(cross_val_score(rfe, X, y, cv=5, scoring='neg_mean_squared_error'))"
   ]
  },
  {
   "cell_type": "markdown",
   "metadata": {},
   "source": [
    "* Origin `neg_mean_squared_error`: -1409.2889528620326\n",
    "* Optimazed `neg_mean_squared_error`: -1383.4479089516929"
   ]
  },
  {
   "cell_type": "code",
   "execution_count": null,
   "metadata": {},
   "outputs": [],
   "source": []
  }
 ],
 "metadata": {
  "kernelspec": {
   "display_name": "Python 3.7.6 64-bit ('cpuml-venv': venv)",
   "language": "python",
   "name": "python37664bitcpumlvenvvenvd94f9e51502149bb8cea6e47812f52f1"
  },
  "language_info": {
   "codemirror_mode": {
    "name": "ipython",
    "version": 3
   },
   "file_extension": ".py",
   "mimetype": "text/x-python",
   "name": "python",
   "nbconvert_exporter": "python",
   "pygments_lexer": "ipython3",
   "version": "3.7.7"
  }
 },
 "nbformat": 4,
 "nbformat_minor": 2
}