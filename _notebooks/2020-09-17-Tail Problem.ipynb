{
 "metadata": {
  "language_info": {
   "codemirror_mode": {
    "name": "ipython",
    "version": 3
   },
   "file_extension": ".py",
   "mimetype": "text/x-python",
   "name": "python",
   "nbconvert_exporter": "python",
   "pygments_lexer": "ipython3",
   "version": "3.7.7-final"
  },
  "orig_nbformat": 2,
  "kernelspec": {
   "name": "python_defaultSpec_1600309510881",
   "display_name": "Python 3.7.7 64-bit ('py377': conda)"
  }
 },
 "nbformat": 4,
 "nbformat_minor": 2,
 "cells": [
  {
   "source": [
    "# Tail Problem and Double-Ended Queue\n",
    "> Can you constrain your function's memory utilization for any iterable?\n",
    "\n",
    "- toc: true \n",
    "- badges: true\n",
    "- comments: true\n",
    "- categories: [Python]"
   ],
   "cell_type": "markdown",
   "metadata": {}
  },
  {
   "source": [
    "# Problem Statement\n",
    "\n",
    "To write a function that takes any iterable (like `list`, `string`, `tuple`, `generator`), and an integer `n` that returns the last `n` elements from the given iterable as `list`, if given integer `n` is <= 0, return empty `list`, meanwhile, constrain the memoey usage, the function should be able to accept super long iterable (such as loop over a `20GB` log file) and return the last `n` elements without over run the memory\n",
    "\n",
    "**For example**\n",
    "\n",
    "```python\n",
    ">>> tail([1, 2, 3, 4, 5], 3)\n",
    "[3, 4, 5]\n",
    ">>> tail('hello', 2)\n",
    "['l', 'o']\n",
    ">>> tail('hello', 0)\n",
    "[]\n",
    ">>> tail('hello', -1)\n",
    "[]\n",
    ">>> nums = (n**2 for n in range(1, 10000000))\n",
    ">>> tail(nums, 3)\n",
    "[99999940000009, 99999960000004, 99999980000001]\n",
    "```\n",
    "\n",
    "***\n",
    "\n",
    "# Solution\n",
    "\n",
    "Well, the first half of this problem can peel down to list comprehension and slicing problem, we know that the purpose of list comprehension is to create a list from another list, or create an iterable from another iterable, such as:\n",
    "\n",
    "```python\n",
    "numbers = [1, 2, 3, 4, 5]\n",
    "square = [num**2 for num in numbers]\n",
    "```\n",
    "\n",
    "It's a very elegent way to create another iterable with readability count, we can simply solve the first half of problem by this way: "
   ],
   "cell_type": "markdown",
   "metadata": {}
  },
  {
   "cell_type": "code",
   "execution_count": 1,
   "metadata": {},
   "outputs": [],
   "source": [
    "# define the test case\n",
    "import unittest\n",
    "\n",
    "class TailTest(unittest.TestCase):\n",
    "    \"\"\"Test for first half of problem\"\"\"\n",
    "\n",
    "    def test_zero(self):\n",
    "        self.assertEqual(tail([1, 2], 0), [])\n",
    "    \n",
    "    def test_one(self):\n",
    "        self.assertEqual(tail([1, 2], 1), [2])\n",
    "    \n",
    "    def test_two(self):\n",
    "        self.assertEqual(tail([1, 2], 2), [1, 2])\n",
    "    \n",
    "    def test_string(self):\n",
    "        self.assertEqual(tail('hello', 2), ['l', 'o'])\n",
    "    \n",
    "    def test_tuple(self):\n",
    "        self.assertEqual(tail((1, 2, 3), 3), [1, 2, 3])\n",
    "    \n",
    "    def test_larger_than_length(self):\n",
    "        numbers = [1, 2, 3, 4]\n",
    "        self.assertEqual(tail(numbers, 5), [1, 2, 3, 4])\n",
    "        self.assertEqual(tail([], 10), [])\n",
    "    \n",
    "    def test_negative(self):\n",
    "        numbers = [1, 2, 3, 4]\n",
    "        self.assertEqual(tail(numbers, -1), [])\n",
    "        self.assertEqual(tail(numbers, -10), [])"
   ]
  },
  {
   "source": [
    "Let's try the first approach, our objective is to write a function that can pass all the test case. "
   ],
   "cell_type": "markdown",
   "metadata": {}
  },
  {
   "cell_type": "code",
   "execution_count": 2,
   "metadata": {},
   "outputs": [],
   "source": [
    "def tail(iterable, index):\n",
    "    if index > 0:\n",
    "        return [i for i in iterable][-index:]\n",
    "    else:\n",
    "        return []\n",
    "        "
   ]
  },
  {
   "cell_type": "code",
   "execution_count": 3,
   "metadata": {
    "tags": []
   },
   "outputs": [
    {
     "output_type": "stream",
     "name": "stderr",
     "text": "test_larger_than_length (__main__.TailTest) ...ok\ntest_negative (__main__.TailTest) ...ok\ntest_one (__main__.TailTest) ...ok\ntest_string (__main__.TailTest) ...ok\ntest_tuple (__main__.TailTest) ...ok\ntest_two (__main__.TailTest) ...ok\ntest_zero (__main__.TailTest) ...ok\n\n----------------------------------------------------------------------\nRan 7 tests in 0.006s\n\nOK\n"
    },
    {
     "output_type": "execute_result",
     "data": {
      "text/plain": "<unittest.main.TestProgram at 0x7f84125d9f50>"
     },
     "metadata": {},
     "execution_count": 3
    }
   ],
   "source": [
    "unittest.main(argv=['first-arg-is-ignored'], verbosity=2, exit=False)"
   ]
  },
  {
   "source": [
    "Now the tricky part is how to handle to `generator` object, we know that `generator` object in Python sometime we call it \"lazy\" itertor, as when we define the `generator` Python will \"record\" the \"recipe\" of what we want to do, but actually it doing nothing, only when we call `next()` method, it will generate the next value from our \"recipe\", the upsize of this method is good memory utilization, as it will not generate anything before hand, and `generator` have another property as \"one time usage\", let's see what it mean: "
   ],
   "cell_type": "markdown",
   "metadata": {}
  },
  {
   "cell_type": "code",
   "execution_count": 5,
   "metadata": {
    "tags": []
   },
   "outputs": [
    {
     "output_type": "stream",
     "name": "stdout",
     "text": "<generator object <genexpr> at 0x7f84122803d0>\n<class 'generator'>\n"
    }
   ],
   "source": [
    "nums = (n**2 for n in [1, 2, 3, 4])\n",
    "print(nums)\n",
    "print(type(nums))"
   ]
  },
  {
   "cell_type": "code",
   "execution_count": 6,
   "metadata": {},
   "outputs": [
    {
     "output_type": "execute_result",
     "data": {
      "text/plain": "1"
     },
     "metadata": {},
     "execution_count": 6
    }
   ],
   "source": [
    "# call for next value\n",
    "next(nums)"
   ]
  },
  {
   "cell_type": "code",
   "execution_count": 7,
   "metadata": {
    "tags": []
   },
   "outputs": [
    {
     "output_type": "stream",
     "name": "stdout",
     "text": "4\n9\n16\n"
    },
    {
     "output_type": "error",
     "ename": "StopIteration",
     "evalue": "",
     "traceback": [
      "\u001b[0;31m---------------------------------------------------------------------------\u001b[0m",
      "\u001b[0;31mStopIteration\u001b[0m                             Traceback (most recent call last)",
      "\u001b[0;32m<ipython-input-7-973643c90d98>\u001b[0m in \u001b[0;36m<module>\u001b[0;34m\u001b[0m\n\u001b[1;32m      2\u001b[0m \u001b[0mprint\u001b[0m\u001b[0;34m(\u001b[0m\u001b[0mnext\u001b[0m\u001b[0;34m(\u001b[0m\u001b[0mnums\u001b[0m\u001b[0;34m)\u001b[0m\u001b[0;34m)\u001b[0m\u001b[0;34m\u001b[0m\u001b[0;34m\u001b[0m\u001b[0m\n\u001b[1;32m      3\u001b[0m \u001b[0mprint\u001b[0m\u001b[0;34m(\u001b[0m\u001b[0mnext\u001b[0m\u001b[0;34m(\u001b[0m\u001b[0mnums\u001b[0m\u001b[0;34m)\u001b[0m\u001b[0;34m)\u001b[0m\u001b[0;34m\u001b[0m\u001b[0;34m\u001b[0m\u001b[0m\n\u001b[0;32m----> 4\u001b[0;31m \u001b[0mprint\u001b[0m\u001b[0;34m(\u001b[0m\u001b[0mnext\u001b[0m\u001b[0;34m(\u001b[0m\u001b[0mnums\u001b[0m\u001b[0;34m)\u001b[0m\u001b[0;34m)\u001b[0m\u001b[0;34m\u001b[0m\u001b[0;34m\u001b[0m\u001b[0m\n\u001b[0m",
      "\u001b[0;31mStopIteration\u001b[0m: "
     ]
    }
   ],
   "source": [
    "print(next(nums))\n",
    "print(next(nums))\n",
    "print(next(nums))\n",
    "print(next(nums))"
   ]
  },
  {
   "source": [
    "Each time we call `next()` to the `generator` the `generator` will excute the \"recepie\" for the next value, untill it catch the `StopIteration` excaption, now the `generator` become empty, if we need to reuse it again, need to redefine it: \n",
    "```python\n",
    "nums = (n**2 for n in [1, 2, 3, 4])\n",
    "```\n",
    "\n",
    "But please take note that every `generator` is an iterator, that mean you can loop over this iterator, or convert it into `list`:"
   ],
   "cell_type": "markdown",
   "metadata": {}
  },
  {
   "cell_type": "code",
   "execution_count": 9,
   "metadata": {},
   "outputs": [
    {
     "output_type": "execute_result",
     "data": {
      "text/plain": "[0,\n 1,\n 4,\n 9,\n 16,\n 25,\n 36,\n 49,\n 64,\n 81,\n 100,\n 121,\n 144,\n 169,\n 196,\n 225,\n 256,\n 289,\n 324,\n 361,\n 400,\n 441,\n 484,\n 529,\n 576,\n 625,\n 676,\n 729,\n 784,\n 841,\n 900,\n 961,\n 1024,\n 1089,\n 1156,\n 1225,\n 1296,\n 1369,\n 1444,\n 1521,\n 1600,\n 1681,\n 1764,\n 1849,\n 1936,\n 2025,\n 2116,\n 2209,\n 2304,\n 2401,\n 2500,\n 2601,\n 2704,\n 2809,\n 2916,\n 3025,\n 3136,\n 3249,\n 3364,\n 3481,\n 3600,\n 3721,\n 3844,\n 3969,\n 4096,\n 4225,\n 4356,\n 4489,\n 4624,\n 4761,\n 4900,\n 5041,\n 5184,\n 5329,\n 5476,\n 5625,\n 5776,\n 5929,\n 6084,\n 6241,\n 6400,\n 6561,\n 6724,\n 6889,\n 7056,\n 7225,\n 7396,\n 7569,\n 7744,\n 7921,\n 8100,\n 8281,\n 8464,\n 8649,\n 8836,\n 9025,\n 9216,\n 9409,\n 9604,\n 9801]"
     },
     "metadata": {},
     "execution_count": 9
    }
   ],
   "source": [
    "numbers = [_ for _ in range(100)]\n",
    "squares = (n**2 for n in numbers)\n",
    "list(squares)"
   ]
  },
  {
   "source": [
    "So it means our original solution did solve the `generator` problem: \n",
    "```python\n",
    "def tail(iterable, index):\n",
    "    if index > 0:\n",
    "        return [i for i in iterable][-index:]\n",
    "    else:\n",
    "        return []\n",
    "```\n",
    "\n",
    "the `return [i for i in iterable]` will convert the `generator` into a list, we can write a test case to prove it. "
   ],
   "cell_type": "markdown",
   "metadata": {}
  },
  {
   "cell_type": "code",
   "execution_count": 11,
   "metadata": {
    "tags": []
   },
   "outputs": [
    {
     "output_type": "stream",
     "name": "stderr",
     "text": "test_larger_than_length (__main__.TailTest) ...ok\ntest_negative (__main__.TailTest) ...ok\ntest_one (__main__.TailTest) ...ok\ntest_string (__main__.TailTest) ...ok\ntest_tuple (__main__.TailTest) ...ok\ntest_two (__main__.TailTest) ...ok\ntest_zero (__main__.TailTest) ...ok\ntest_iterator (__main__.TailTestGenerator) ...ok\n\n----------------------------------------------------------------------\nRan 8 tests in 0.007s\n\nOK\n"
    },
    {
     "output_type": "execute_result",
     "data": {
      "text/plain": "<unittest.main.TestProgram at 0x7f841257ae50>"
     },
     "metadata": {},
     "execution_count": 11
    }
   ],
   "source": [
    "class TailTestGenerator(unittest.TestCase):\n",
    "    \"\"\"Test generator\"\"\"\n",
    "\n",
    "    def test_iterator(self):\n",
    "        nums = (n**2 for n in [1, 2, 3, 4])\n",
    "        self.assertEqual(tail(nums, -1), [])\n",
    "        self.assertEqual(tail(nums, 0), [])\n",
    "        # consume the generator\n",
    "        self.assertEqual(tail(nums, 2), [9, 16])\n",
    "        # generator is one time use, now should be empty\n",
    "        self.assertEqual(list(nums), [])\n",
    "        # empty generator\n",
    "        self.assertEqual(tail(nums, 1), [])\n",
    "\n",
    "unittest.main(argv=['first-arg-is-ignored'], verbosity=2, exit=False)"
   ]
  },
  {
   "source": [
    "Hoo-Ray, seems we finished our work today, but wait, remember the last requirement of the `Problem Statement` ?\n",
    "> the function should be able to accept super long iterable (such as loop over a `20GB` log file) and return the last `n` elements without over run the memory. \n",
    "\n",
    "If we try to feed the function with a `20GB` generator, what will happened? \n",
    "\n",
    "Recall our function: \n",
    "\n",
    "```python\n",
    "def tail(iterable, index):\n",
    "    if index > 0:\n",
    "        return [i for i in iterable][-index:]\n",
    "    else:\n",
    "        return []\n",
    "```\n",
    "\n",
    "if the `index` is `> 0`, it will return `[i for i in iterable][-index:]`, this is an actual list comprehension, it will convert the `iterable` into full list, means if we pass a `20GB` generator, the function will generate a `20GB` list, which is over run the memory, how can we furthre improve the function, to reduce the memory usage? \n",
    "\n",
    "Here introduce `deque()` **Double Ended Queue**"
   ],
   "cell_type": "markdown",
   "metadata": {}
  },
  {
   "source": [
    "# deque() -- Double-Ended Queue\n",
    "\n",
    "A double-ended queue, or deque, supports adding and removing elements from either end of the queue. The more commonly used stacks and queues are degenerate forms of deques, where the inputs and outputs are restricted to a single end.\n",
    "\n",
    "it's properties: \n",
    "\n",
    "- it accept any iterable\n",
    "- Populating both end\n",
    "- Consuming\n",
    "- Rotating\n",
    "- Constraining the Queue Size\n",
    "\n",
    "Some exmaple: \n",
    "***"
   ],
   "cell_type": "markdown",
   "metadata": {}
  },
  {
   "cell_type": "code",
   "execution_count": 14,
   "metadata": {
    "tags": []
   },
   "outputs": [
    {
     "output_type": "stream",
     "name": "stdout",
     "text": "Deque: deque(['a', 'b', 'c', 'd', 'e', 'f', 'g'])\nLength: 7\nLeft end: a\nRight end: g\nremove(c): deque(['a', 'b', 'd', 'e', 'f', 'g'])\n"
    }
   ],
   "source": [
    "from collections import deque\n",
    "\n",
    "d = deque('abcdefg')\n",
    "print('Deque:', d)\n",
    "print('Length:', len(d))\n",
    "print('Left end:', d[0])\n",
    "print('Right end:', d[-1])\n",
    "\n",
    "d.remove('c')\n",
    "print('remove(c):', d)"
   ]
  },
  {
   "source": [
    "Since deques are a type of sequence container, they support some of the same operations as list, such as examining the contents with `__getitem__()`, determining length, and removing elements from the middle of the queue by matching identity."
   ],
   "cell_type": "markdown",
   "metadata": {}
  },
  {
   "source": [
    "## Populating\n",
    "\n",
    "A deque can be populated from either end, termed “left” and “right” in the Python implementation.\n",
    "\n",
    "Example:\n",
    "***"
   ],
   "cell_type": "markdown",
   "metadata": {}
  },
  {
   "cell_type": "code",
   "execution_count": 15,
   "metadata": {
    "tags": []
   },
   "outputs": [
    {
     "output_type": "stream",
     "name": "stdout",
     "text": "extend       : deque(['a', 'b', 'c', 'd', 'e', 'f', 'g'])\nappend       : deque(['a', 'b', 'c', 'd', 'e', 'f', 'g', 'h'])\nextend left        : deque([5, 4, 3, 2, 1, 0])\nappend left        : deque([6, 5, 4, 3, 2, 1, 0])\n"
    }
   ],
   "source": [
    "# define deque\n",
    "d = deque()\n",
    "\n",
    "# populating value\n",
    "d.extend('abcdefg')\n",
    "print('extend       :', d)\n",
    "\n",
    "# add to the right\n",
    "d.append('h')\n",
    "print('append       :', d)\n",
    "\n",
    "\n",
    "# add to the left\n",
    "d1 = deque()\n",
    "d1.extendleft(range(6))\n",
    "print('extend left        :', d1)\n",
    "d1.appendleft(6)\n",
    "print('append left        :', d1)"
   ]
  },
  {
   "source": [
    "## Consuming\n",
    "\n",
    "Similarly, the elements of the `deque()` can be consumed from both ends or either end, depending on the algorithm being applied.\n",
    "\n",
    "**Example:**\n",
    "***"
   ],
   "cell_type": "markdown",
   "metadata": {}
  },
  {
   "cell_type": "code",
   "execution_count": 16,
   "metadata": {
    "tags": []
   },
   "outputs": [
    {
     "output_type": "stream",
     "name": "stdout",
     "text": "From the right:\ngfedcba\n\nFrom the left:\n012345\n"
    }
   ],
   "source": [
    "print('From the right:')\n",
    "d = deque('abcdefg')\n",
    "while True:\n",
    "    try:\n",
    "        print(d.pop(), end='')\n",
    "    except IndexError:\n",
    "        break\n",
    "print()\n",
    "\n",
    "print('\\nFrom the left:')\n",
    "d = deque(range(6))\n",
    "while True:\n",
    "    try:\n",
    "        print(d.popleft(), end='')\n",
    "    except IndexError:\n",
    "        break\n",
    "print()"
   ]
  },
  {
   "source": [
    "Since deques are thread-safe, the contents can even be consumed from both ends at the same time from separate threads."
   ],
   "cell_type": "markdown",
   "metadata": {}
  },
  {
   "cell_type": "code",
   "execution_count": 17,
   "metadata": {
    "tags": []
   },
   "outputs": [
    {
     "output_type": "stream",
     "name": "stdout",
     "text": "Left: 0\n   Right: 4\n   Right: 3    Left: 1\n\n   Right: 2\n    Left done\n   Right done\n"
    }
   ],
   "source": [
    "import threading\n",
    "import time\n",
    "\n",
    "candle = deque(range(5))\n",
    "\n",
    "\n",
    "def burn(direction, nextSource):\n",
    "    while True:\n",
    "        try:\n",
    "            next = nextSource()\n",
    "        except IndexError:\n",
    "            break\n",
    "        else:\n",
    "            print('{:>8}: {}'.format(direction, next))\n",
    "            time.sleep(0.1)\n",
    "    print('{:>8} done'.format(direction))\n",
    "    return\n",
    "\n",
    "\n",
    "left = threading.Thread(target=burn,\n",
    "                        args=('Left', candle.popleft))\n",
    "right = threading.Thread(target=burn,\n",
    "                         args=('Right', candle.pop))\n",
    "\n",
    "left.start()\n",
    "right.start()\n",
    "\n",
    "left.join()\n",
    "right.join()"
   ]
  },
  {
   "source": [
    "## Rotating\n",
    "\n",
    "Another useful aspect of the deque is the ability to rotate it in either direction, so as to skip over some items.\n",
    "\n",
    "**Example:**\n",
    "***"
   ],
   "cell_type": "markdown",
   "metadata": {}
  },
  {
   "cell_type": "code",
   "execution_count": 20,
   "metadata": {
    "tags": []
   },
   "outputs": [
    {
     "output_type": "stream",
     "name": "stdout",
     "text": "Normal        : deque([0, 1, 2, 3, 4, 5, 6, 7, 8, 9])\nRight rotation: deque([8, 9, 0, 1, 2, 3, 4, 5, 6, 7])\nLeft rotation : deque([2, 3, 4, 5, 6, 7, 8, 9, 0, 1])\n"
    }
   ],
   "source": [
    "d = deque(range(10))\n",
    "print('Normal        :', d)\n",
    "\n",
    "d = deque(range(10))\n",
    "d.rotate(2)\n",
    "print('Right rotation:', d)\n",
    "\n",
    "d = deque(range(10))\n",
    "d.rotate(-2)\n",
    "print('Left rotation :', d)"
   ]
  },
  {
   "source": [
    "## Constraining the Queue Size\n",
    "\n",
    "A `deque()` instance can be configured with a maximum length so that it never grows beyond that size. When the queue reaches the specified length, existing items are discarded as new items are added. This behavior is useful for finding the last n items in a stream of undetermined length.\n",
    "\n",
    "**Example:**\n",
    "***\n"
   ],
   "cell_type": "markdown",
   "metadata": {}
  },
  {
   "cell_type": "code",
   "execution_count": 21,
   "metadata": {
    "tags": []
   },
   "outputs": [
    {
     "output_type": "stream",
     "name": "stdout",
     "text": "n = 17\nD1: deque([17], maxlen=3)\nD2: deque([17], maxlen=3)\nn = 72\nD1: deque([17, 72], maxlen=3)\nD2: deque([72, 17], maxlen=3)\nn = 97\nD1: deque([17, 72, 97], maxlen=3)\nD2: deque([97, 72, 17], maxlen=3)\nn = 8\nD1: deque([72, 97, 8], maxlen=3)\nD2: deque([8, 97, 72], maxlen=3)\nn = 32\nD1: deque([97, 8, 32], maxlen=3)\nD2: deque([32, 8, 97], maxlen=3)\n"
    }
   ],
   "source": [
    "import random\n",
    "\n",
    "# Set the random seed so we see the same output each time\n",
    "# the script is run.\n",
    "random.seed(1)\n",
    "\n",
    "d1 = deque(maxlen=3)\n",
    "d2 = deque(maxlen=3)\n",
    "\n",
    "for i in range(5):\n",
    "    n = random.randint(0, 100)\n",
    "    print('n =', n)\n",
    "    d1.append(n)\n",
    "    d2.appendleft(n)\n",
    "    print('D1:', d1)\n",
    "    print('D2:', d2)"
   ]
  },
  {
   "source": [
    "Now we know about `deque()`, it do have two properties we can use: \n",
    "\n",
    "- > it accept any iterable\n",
    "- > it constrain the queue size\n",
    "\n",
    "We can use `deque()` right away:"
   ],
   "cell_type": "markdown",
   "metadata": {}
  },
  {
   "cell_type": "code",
   "execution_count": 22,
   "metadata": {},
   "outputs": [],
   "source": [
    "del tail\n",
    "\n",
    "from collections import deque\n",
    "\n",
    "def tail(iterable, index):\n",
    "    if index > 0:\n",
    "        return list(deque(iterable, maxlen=index))\n",
    "    else:\n",
    "        return []\n",
    "    "
   ]
  },
  {
   "source": [
    "Let's try out the test case"
   ],
   "cell_type": "markdown",
   "metadata": {}
  },
  {
   "cell_type": "code",
   "execution_count": 23,
   "metadata": {
    "tags": []
   },
   "outputs": [
    {
     "output_type": "stream",
     "name": "stderr",
     "text": "test_larger_than_length (__main__.TailTest) ...ok\ntest_negative (__main__.TailTest) ...ok\ntest_one (__main__.TailTest) ...ok\ntest_string (__main__.TailTest) ...ok\ntest_tuple (__main__.TailTest) ...ok\ntest_two (__main__.TailTest) ...ok\ntest_zero (__main__.TailTest) ...ok\ntest_iterator (__main__.TailTestGenerator) ...ok\n\n----------------------------------------------------------------------\nRan 8 tests in 0.005s\n\nOK\n"
    },
    {
     "output_type": "execute_result",
     "data": {
      "text/plain": "<unittest.main.TestProgram at 0x7f8411ff94d0>"
     },
     "metadata": {},
     "execution_count": 23
    }
   ],
   "source": [
    "unittest.main(argv=['first-arg-is-ignored'], verbosity=2, exit=False)"
   ]
  },
  {
   "source": [
    "So we're maxing a deque with our iterable and setting the maximum length (we could have used a positional argument but we chose to use a named one instead) and then converting that deque to a list so that our tests (which expect a list) pass.\n",
    "\n",
    "By utilizing the `maxlen` in `deque()` we can constrain the return list size to the `index` we want, if the `generator` generate more than the `maxlen`, `deque()` object will discard the values that more than the `maxlen`"
   ],
   "cell_type": "markdown",
   "metadata": {}
  },
  {
   "cell_type": "code",
   "execution_count": null,
   "metadata": {},
   "outputs": [],
   "source": []
  }
 ]
}